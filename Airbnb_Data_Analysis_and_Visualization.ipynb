{
 "cells": [
  {
   "attachments": {},
   "cell_type": "markdown",
   "metadata": {},
   "source": [
    "## Import Dependencies"
   ]
  },
  {
   "cell_type": "code",
   "execution_count": 3,
   "metadata": {},
   "outputs": [],
   "source": [
    "import pandas as pd\n",
    "import sweetviz as sv\n",
    "import seaborn as sns\n",
    "import matplotlib.pyplot as plt"
   ]
  },
  {
   "attachments": {},
   "cell_type": "markdown",
   "metadata": {},
   "source": [
    "### Load Data into DataFrame"
   ]
  },
  {
   "cell_type": "code",
   "execution_count": 3,
   "metadata": {},
   "outputs": [],
   "source": [
    "data = pd.read_csv(\"listings.csv\")"
   ]
  },
  {
   "attachments": {},
   "cell_type": "markdown",
   "metadata": {},
   "source": [
    "### Basic EDA and Profiling"
   ]
  },
  {
   "cell_type": "code",
   "execution_count": null,
   "metadata": {},
   "outputs": [],
   "source": [
    "profiling_report = sv.analyze(data)\n",
    "profiling_report.show_html()"
   ]
  },
  {
   "attachments": {},
   "cell_type": "markdown",
   "metadata": {},
   "source": [
    "### Data Cleanup"
   ]
  },
  {
   "cell_type": "code",
   "execution_count": null,
   "metadata": {},
   "outputs": [],
   "source": [
    "columns_to_drop = [\"id\", \"name\", \"host_id\", \"host_name\", \"neighbourhood_group\", \"last_review\", \"reviews_per_month\", \"calculated_host_listings_count\", \"number_of_reviews_ltm\", \"license\"]\n",
    "data_cleaned = data\n",
    "data_cleaned = data_cleaned.drop(columns_to_drop, axis = 1)"
   ]
  },
  {
   "cell_type": "code",
   "execution_count": 15,
   "metadata": {},
   "outputs": [
    {
     "name": "stdout",
     "output_type": "stream",
     "text": [
      "neighbourhood        0\n",
      "latitude             0\n",
      "longitude            0\n",
      "room_type            0\n",
      "price                0\n",
      "minimum_nights       0\n",
      "number_of_reviews    0\n",
      "availability_365     0\n",
      "dtype: int64\n"
     ]
    }
   ],
   "source": [
    "print(data_cleaned.isnull().sum())"
   ]
  },
  {
   "cell_type": "code",
   "execution_count": 18,
   "metadata": {},
   "outputs": [
    {
     "data": {
      "image/png": "[encoded data removed]",
      "text/plain": [
       "<Figure size 640x480 with 1 Axes>"
      ]
     },
     "metadata": {},
     "output_type": "display_data"
    }
   ],
   "source": [
    "sns.histplot(data_cleaned[\"price\"])\n",
    "plt.show()"
   ]
  },
  {
   "attachments": {},
   "cell_type": "markdown",
   "metadata": {},
   "source": [
    "### Remove Outliers based on IQR"
   ]
  },
  {
   "cell_type": "code",
   "execution_count": 5,
   "metadata": {},
   "outputs": [
    {
     "ename": "NameError",
     "evalue": "name 'data_cleaned' is not defined",
     "output_type": "error",
     "traceback": [
      "\u001b[1;31m---------------------------------------------------------------------------\u001b[0m",
      "\u001b[1;31mNameError\u001b[0m                                 Traceback (most recent call last)",
      "Cell \u001b[1;32mIn[5], line 9\u001b[0m\n\u001b[0;32m      6\u001b[0m     upper_bound \u001b[39m=\u001b[39m Q3 \u001b[39m+\u001b[39m \u001b[39m1.5\u001b[39m \u001b[39m*\u001b[39m IQR\n\u001b[0;32m      7\u001b[0m     \u001b[39mreturn\u001b[39;00m data_cleaned[(data_cleaned[price] \u001b[39m>\u001b[39m\u001b[39m=\u001b[39m lower_bound) \u001b[39m&\u001b[39m (data_cleaned[price] \u001b[39m<\u001b[39m\u001b[39m=\u001b[39m upper_bound)]\n\u001b[1;32m----> 9\u001b[0m data_no_outliers \u001b[39m=\u001b[39m remove_outliers_iqr(data_cleaned, \u001b[39m'\u001b[39m\u001b[39mprice\u001b[39m\u001b[39m'\u001b[39m)\n",
      "\u001b[1;31mNameError\u001b[0m: name 'data_cleaned' is not defined"
     ]
    }
   ],
   "source": [
    "def remove_outliers_iqr(data_cleaned, price):\n",
    "    Q1 = data_cleaned[price].quantile(0.25)\n",
    "    Q3 = data_cleaned[price].quantile(.75)\n",
    "    IQR = Q3 - Q1\n",
    "    lower_bound = Q1 - 1.5 * IQR\n",
    "    upper_bound = Q3 + 1.5 * IQR\n",
    "    return data_cleaned[(data_cleaned[price] >= lower_bound) & (data_cleaned[price] <= upper_bound)]\n",
    "\n",
    "data_no_outliers = remove_outliers_iqr(data_cleaned, 'price')"
   ]
  },
  {
   "cell_type": "code",
   "execution_count": 4,
   "metadata": {},
   "outputs": [
    {
     "ename": "NameError",
     "evalue": "name 'data_no_outliers' is not defined",
     "output_type": "error",
     "traceback": [
      "\u001b[1;31m---------------------------------------------------------------------------\u001b[0m",
      "\u001b[1;31mNameError\u001b[0m                                 Traceback (most recent call last)",
      "Cell \u001b[1;32mIn[4], line 1\u001b[0m\n\u001b[1;32m----> 1\u001b[0m sns\u001b[39m.\u001b[39mpairplot(data_no_outliers)\n\u001b[0;32m      2\u001b[0m plt\u001b[39m.\u001b[39mshow()\n\u001b[0;32m      4\u001b[0m sns\u001b[39m.\u001b[39mhistplot(data_no_outliers[\u001b[39m\"\u001b[39m\u001b[39mprice\u001b[39m\u001b[39m\"\u001b[39m])\n",
      "\u001b[1;31mNameError\u001b[0m: name 'data_no_outliers' is not defined"
     ]
    }
   ],
   "source": [
    "sns.pairplot(data_no_outliers)\n",
    "plt.show()\n",
    "\n",
    "sns.histplot(data_no_outliers[\"price\"])\n",
    "plt.show()\n",
    "sns.violinplot(data_no_outliers[\"price\"])\n",
    "plt.show()"
   ]
  },
  {
   "cell_type": "code",
   "execution_count": 27,
   "metadata": {},
   "outputs": [],
   "source": [
    "data_no_outliers.to_csv('listing_data_cleaned.csv', index=False)"
   ]
  }
 ],
 "metadata": {
  "kernelspec": {
   "display_name": "base",
   "language": "python",
   "name": "python3"
  },
  "language_info": {
   "codemirror_mode": {
    "name": "ipython",
    "version": 3
   },
   "file_extension": ".py",
   "mimetype": "text/x-python",
   "name": "python",
   "nbconvert_exporter": "python",
   "pygments_lexer": "ipython3",
   "version": "3.10.9"
  },
  "orig_nbformat": 4
 },
 "nbformat": 4,
 "nbformat_minor": 2
}
